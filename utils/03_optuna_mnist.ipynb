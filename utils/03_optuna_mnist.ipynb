{
 "cells": [
  {
   "cell_type": "code",
   "execution_count": 1,
   "metadata": {},
   "outputs": [],
   "source": [
    "import numpy as np\n",
    "import pandas as pd\n",
    "import optuna\n",
    "from lightgbm import LGBMClassifier\n",
    "from optuna import Trial\n",
    "from optuna.samplers import TPESampler\n",
    "from sklearn.metrics import log_loss\n",
    "from sklearn.model_selection import train_test_split"
   ]
  },
  {
   "cell_type": "markdown",
   "metadata": {},
   "source": [
    "## Optuna Tutorial"
   ]
  },
  {
   "cell_type": "code",
   "execution_count": 3,
   "metadata": {},
   "outputs": [
    {
     "name": "stderr",
     "output_type": "stream",
     "text": [
      "\u001b[32m[I 2021-11-29 17:20:05,131]\u001b[0m A new study created in memory with name: no-name-0464b9f7-8e64-481a-a1eb-55a945af6c2f\u001b[0m\n",
      "\u001b[32m[I 2021-11-29 17:20:05,133]\u001b[0m Trial 0 finished with value: 0.1363814495370643 and parameters: {'x': 2.3692985913012183}. Best is trial 0 with value: 0.1363814495370643.\u001b[0m\n",
      "\u001b[32m[I 2021-11-29 17:20:05,135]\u001b[0m Trial 1 finished with value: 78.75724233602091 and parameters: {'x': -6.874527724674757}. Best is trial 0 with value: 0.1363814495370643.\u001b[0m\n",
      "\u001b[32m[I 2021-11-29 17:20:05,136]\u001b[0m Trial 2 finished with value: 29.358555832630138 and parameters: {'x': 7.418353609043077}. Best is trial 0 with value: 0.1363814495370643.\u001b[0m\n",
      "\u001b[32m[I 2021-11-29 17:20:05,137]\u001b[0m Trial 3 finished with value: 19.38337760582468 and parameters: {'x': -2.4026557446414865}. Best is trial 0 with value: 0.1363814495370643.\u001b[0m\n",
      "\u001b[32m[I 2021-11-29 17:20:05,138]\u001b[0m Trial 4 finished with value: 120.32834656343591 and parameters: {'x': -8.969427813857745}. Best is trial 0 with value: 0.1363814495370643.\u001b[0m\n",
      "\u001b[32m[I 2021-11-29 17:20:05,139]\u001b[0m Trial 5 finished with value: 37.504157431034656 and parameters: {'x': -4.124063800372646}. Best is trial 0 with value: 0.1363814495370643.\u001b[0m\n",
      "\u001b[32m[I 2021-11-29 17:20:05,140]\u001b[0m Trial 6 finished with value: 71.19334417124324 and parameters: {'x': -6.4376148389958665}. Best is trial 0 with value: 0.1363814495370643.\u001b[0m\n",
      "\u001b[32m[I 2021-11-29 17:20:05,141]\u001b[0m Trial 7 finished with value: 45.62967171309711 and parameters: {'x': -4.754973849919562}. Best is trial 0 with value: 0.1363814495370643.\u001b[0m\n",
      "\u001b[32m[I 2021-11-29 17:20:05,142]\u001b[0m Trial 8 finished with value: 1.043505756244709 and parameters: {'x': 3.021521295051997}. Best is trial 0 with value: 0.1363814495370643.\u001b[0m\n",
      "\u001b[32m[I 2021-11-29 17:20:05,143]\u001b[0m Trial 9 finished with value: 42.1727232089347 and parameters: {'x': 8.494052910851181}. Best is trial 0 with value: 0.1363814495370643.\u001b[0m\n",
      "\u001b[32m[I 2021-11-29 17:20:05,153]\u001b[0m Trial 10 finished with value: 0.019570920777899174 and parameters: {'x': 2.1398961070862916}. Best is trial 10 with value: 0.019570920777899174.\u001b[0m\n",
      "\u001b[32m[I 2021-11-29 17:20:05,157]\u001b[0m Trial 11 finished with value: 0.26201201864956475 and parameters: {'x': 1.488128904264399}. Best is trial 10 with value: 0.019570920777899174.\u001b[0m\n",
      "\u001b[32m[I 2021-11-29 17:20:05,162]\u001b[0m Trial 12 finished with value: 9.85197187665093 and parameters: {'x': 5.138785095646233}. Best is trial 10 with value: 0.019570920777899174.\u001b[0m\n",
      "\u001b[32m[I 2021-11-29 17:20:05,186]\u001b[0m Trial 13 finished with value: 5.034038624121138 and parameters: {'x': -0.2436663352916664}. Best is trial 10 with value: 0.019570920777899174.\u001b[0m\n",
      "\u001b[32m[I 2021-11-29 17:20:05,191]\u001b[0m Trial 14 finished with value: 4.52379182618245 and parameters: {'x': 4.126920738105313}. Best is trial 10 with value: 0.019570920777899174.\u001b[0m\n",
      "\u001b[32m[I 2021-11-29 17:20:05,195]\u001b[0m Trial 15 finished with value: 3.40485184174664 and parameters: {'x': 0.15477593725134842}. Best is trial 10 with value: 0.019570920777899174.\u001b[0m\n",
      "\u001b[32m[I 2021-11-29 17:20:05,211]\u001b[0m Trial 16 finished with value: 12.42426821605179 and parameters: {'x': 5.524807543122289}. Best is trial 10 with value: 0.019570920777899174.\u001b[0m\n",
      "\u001b[32m[I 2021-11-29 17:20:05,216]\u001b[0m Trial 17 finished with value: 0.07142507147097252 and parameters: {'x': 1.732745305988889}. Best is trial 10 with value: 0.019570920777899174.\u001b[0m\n",
      "\u001b[32m[I 2021-11-29 17:20:05,221]\u001b[0m Trial 18 finished with value: 11.058667953234522 and parameters: {'x': -1.3254575554703028}. Best is trial 10 with value: 0.019570920777899174.\u001b[0m\n",
      "\u001b[32m[I 2021-11-29 17:20:05,239]\u001b[0m Trial 19 finished with value: 63.16281965827869 and parameters: {'x': 9.94750398919552}. Best is trial 10 with value: 0.019570920777899174.\u001b[0m\n",
      "\u001b[32m[I 2021-11-29 17:20:05,245]\u001b[0m Trial 20 finished with value: 23.902386818949886 and parameters: {'x': 6.8890067313258925}. Best is trial 10 with value: 0.019570920777899174.\u001b[0m\n",
      "\u001b[32m[I 2021-11-29 17:20:05,249]\u001b[0m Trial 21 finished with value: 0.12566090054966128 and parameters: {'x': 2.3544868129418375}. Best is trial 10 with value: 0.019570920777899174.\u001b[0m\n",
      "\u001b[32m[I 2021-11-29 17:20:05,267]\u001b[0m Trial 22 finished with value: 0.7470620518966159 and parameters: {'x': 1.1356724857459322}. Best is trial 10 with value: 0.019570920777899174.\u001b[0m\n",
      "\u001b[32m[I 2021-11-29 17:20:05,272]\u001b[0m Trial 23 finished with value: 2.132114441007938 and parameters: {'x': 3.4601761677989193}. Best is trial 10 with value: 0.019570920777899174.\u001b[0m\n",
      "\u001b[32m[I 2021-11-29 17:20:05,277]\u001b[0m Trial 24 finished with value: 20.115241606907514 and parameters: {'x': -2.485001851382841}. Best is trial 10 with value: 0.019570920777899174.\u001b[0m\n",
      "\u001b[32m[I 2021-11-29 17:20:05,295]\u001b[0m Trial 25 finished with value: 0.21491798798136885 and parameters: {'x': 1.5364075194943636}. Best is trial 10 with value: 0.019570920777899174.\u001b[0m\n",
      "\u001b[32m[I 2021-11-29 17:20:05,301]\u001b[0m Trial 26 finished with value: 8.775570633322998 and parameters: {'x': 4.962358964292308}. Best is trial 10 with value: 0.019570920777899174.\u001b[0m\n",
      "\u001b[32m[I 2021-11-29 17:20:05,306]\u001b[0m Trial 27 finished with value: 5.157526272608188 and parameters: {'x': -0.2710187741646233}. Best is trial 10 with value: 0.019570920777899174.\u001b[0m\n",
      "\u001b[32m[I 2021-11-29 17:20:05,322]\u001b[0m Trial 28 finished with value: 0.7330519576112351 and parameters: {'x': 2.856184534788637}. Best is trial 10 with value: 0.019570920777899174.\u001b[0m\n",
      "\u001b[32m[I 2021-11-29 17:20:05,327]\u001b[0m Trial 29 finished with value: 0.04055293968095728 and parameters: {'x': 2.2013776047155127}. Best is trial 10 with value: 0.019570920777899174.\u001b[0m\n"
     ]
    },
    {
     "data": {
      "text/plain": [
       "{'x': 2.1398961070862916}"
      ]
     },
     "execution_count": 3,
     "metadata": {},
     "output_type": "execute_result"
    }
   ],
   "source": [
    "import optuna\n",
    "\n",
    "def objective(trial):\n",
    "    x = trial.suggest_float('x', -10, 10)\n",
    "    return (x - 2) ** 2\n",
    "\n",
    "study = optuna.create_study()\n",
    "study.optimize(objective, n_trials=30)\n",
    "\n",
    "study.best_params"
   ]
  },
  {
   "cell_type": "markdown",
   "metadata": {},
   "source": [
    "## Optuna for Pytorch"
   ]
  },
  {
   "cell_type": "code",
   "execution_count": 9,
   "metadata": {},
   "outputs": [],
   "source": [
    "import os\n",
    "import optuna\n",
    "import torch\n",
    "import torch.nn as nn\n",
    "import torch.nn.functional as F\n",
    "import torch.optim as optim\n",
    "import torch.utils.data\n",
    "from torchvision import datasets\n",
    "from torchvision import transforms\n",
    "\n",
    "\n",
    "BATCHSIZE = 128\n",
    "CLASSES = 10\n",
    "EPOCHS = 10\n",
    "DIR = os.getcwd()\n",
    "\n",
    "DEVICE = torch.device('cuda' if torch.cuda.is_available() else 'cpu')\n",
    "\n",
    "N_TRAIN_EXAMPLES = BATCHSIZE * 469\n",
    "N_VALID_EXAMPLES = BATCHSIZE * 79"
   ]
  },
  {
   "cell_type": "code",
   "execution_count": 10,
   "metadata": {},
   "outputs": [],
   "source": [
    "def get_mnist():\n",
    "    # Load FashionMNIST dataset.\n",
    "    train_loader = torch.utils.data.DataLoader(\n",
    "        datasets.FashionMNIST(DIR, train=True, download=True, transform=transforms.ToTensor()),\n",
    "        batch_size=BATCHSIZE,\n",
    "        shuffle=True,\n",
    "    )\n",
    "    valid_loader = torch.utils.data.DataLoader(\n",
    "        datasets.FashionMNIST(DIR, train=False, transform=transforms.ToTensor()),\n",
    "        batch_size=BATCHSIZE,\n",
    "        shuffle=True,\n",
    "    )\n",
    "    return train_loader, valid_loader\n"
   ]
  },
  {
   "cell_type": "code",
   "execution_count": 11,
   "metadata": {},
   "outputs": [],
   "source": [
    "def define_model(trial):\n",
    "    n_layers = trial.suggest_int(\"n_layers\", 1, 10) # n_layers = 1~10\n",
    "    layers = []\n",
    "\n",
    "    in_features = 28 * 28\n",
    "    for i in range(n_layers): # (1~10)\n",
    "        out_features = trial.suggest_int(\"n_units_l{}\".format(i), 4, 128)   # out_features = 4~128\n",
    "        layers.append(nn.Linear(in_features, out_features))\n",
    "        layers.append(nn.ReLU())\n",
    "        p = trial.suggest_float(\"dropout_l{}\".format(i), 0.2, 0.5)\n",
    "        layers.append(nn.Dropout(p))\n",
    "\n",
    "        in_features = out_features\n",
    "    layers.append(nn.Linear(in_features, CLASSES))\n",
    "    layers.append(nn.LogSoftmax(dim=1))\n",
    "\n",
    "    return nn.Sequential(*layers)  "
   ]
  },
  {
   "cell_type": "code",
   "execution_count": 13,
   "metadata": {},
   "outputs": [],
   "source": [
    "def objective(trial):\n",
    "    model = define_model(trial).to(DEVICE)\n",
    "    print(model)\n",
    "    optimizer_name = trial.suggest_categorical(\"optimizer\", [\"Adam\", \"RMSprop\", \"SGD\"])\n",
    "    lr = trial.suggest_float(\"lr\", 1e-5, 1e-1, log=True)\n",
    "    optimizer = getattr(optim, optimizer_name)(model.parameters(), lr=lr)\n",
    "    \n",
    "    train_loader, valid_loader = get_mnist()\n",
    "\n",
    "    for epoch in range(EPOCHS):\n",
    "        model.train()\n",
    "        for batch_idx, (data, target) in enumerate(train_loader):\n",
    "            if batch_idx * BATCHSIZE >= N_TRAIN_EXAMPLES:\n",
    "                break\n",
    "            data, target = data.view(data.size(0), -1).to(DEVICE), target.to(DEVICE)\n",
    "\n",
    "            optimizer.zero_grad()\n",
    "            output = model(data)\n",
    "            loss = F.nll_loss(output, target)\n",
    "            loss.backward()\n",
    "            optimizer.step()\n",
    "\n",
    "        model.eval()\n",
    "        correct = 0\n",
    "        with torch.no_grad():\n",
    "            for batch_idx, (data, target) in enumerate(valid_loader):\n",
    "                if batch_idx * BATCHSIZE >= N_VALID_EXAMPLES:\n",
    "                    break\n",
    "                \n",
    "                data, target = data.view(data.size(0), -1).to(DEVICE), target.to(DEVICE)\n",
    "                output = model(data)\n",
    "\n",
    "                pred = output.argmax(dim=1, keepdim=True)\n",
    "                correct += pred.eq(target.view_as(pred)).sum().item()\n",
    "\n",
    "        accuracy = correct / min(len(valid_loader.dataset), N_VALID_EXAMPLES)\n",
    "        trial.report(accuracy, epoch)\n",
    "\n",
    "        if trial.should_prune():\n",
    "            raise optuna.exceptions.TrialPruned()\n",
    "\n",
    "    return accuracy\n"
   ]
  },
  {
   "cell_type": "code",
   "execution_count": 14,
   "metadata": {},
   "outputs": [
    {
     "name": "stderr",
     "output_type": "stream",
     "text": [
      "\u001b[32m[I 2021-11-29 17:23:24,403]\u001b[0m A new study created in memory with name: no-name-d3a8febb-b999-4cf7-a6af-72d4081bb228\u001b[0m\n"
     ]
    },
    {
     "name": "stdout",
     "output_type": "stream",
     "text": [
      "Sequential(\n",
      "  (0): Linear(in_features=784, out_features=43, bias=True)\n",
      "  (1): ReLU()\n",
      "  (2): Dropout(p=0.44752006025862845, inplace=False)\n",
      "  (3): Linear(in_features=43, out_features=35, bias=True)\n",
      "  (4): ReLU()\n",
      "  (5): Dropout(p=0.27608822151433465, inplace=False)\n",
      "  (6): Linear(in_features=35, out_features=73, bias=True)\n",
      "  (7): ReLU()\n",
      "  (8): Dropout(p=0.24209810002064813, inplace=False)\n",
      "  (9): Linear(in_features=73, out_features=90, bias=True)\n",
      "  (10): ReLU()\n",
      "  (11): Dropout(p=0.4721431571489529, inplace=False)\n",
      "  (12): Linear(in_features=90, out_features=110, bias=True)\n",
      "  (13): ReLU()\n",
      "  (14): Dropout(p=0.3727037023122215, inplace=False)\n",
      "  (15): Linear(in_features=110, out_features=84, bias=True)\n",
      "  (16): ReLU()\n",
      "  (17): Dropout(p=0.25751165966826334, inplace=False)\n",
      "  (18): Linear(in_features=84, out_features=80, bias=True)\n",
      "  (19): ReLU()\n",
      "  (20): Dropout(p=0.35710382765960813, inplace=False)\n",
      "  (21): Linear(in_features=80, out_features=10, bias=True)\n",
      "  (22): LogSoftmax(dim=1)\n",
      ")\n"
     ]
    },
    {
     "name": "stderr",
     "output_type": "stream",
     "text": [
      "\u001b[32m[I 2021-11-29 17:24:53,434]\u001b[0m Trial 0 finished with value: 0.1 and parameters: {'n_layers': 7, 'n_units_l0': 43, 'dropout_l0': 0.44752006025862845, 'n_units_l1': 35, 'dropout_l1': 0.27608822151433465, 'n_units_l2': 73, 'dropout_l2': 0.24209810002064813, 'n_units_l3': 90, 'dropout_l3': 0.4721431571489529, 'n_units_l4': 110, 'dropout_l4': 0.3727037023122215, 'n_units_l5': 84, 'dropout_l5': 0.25751165966826334, 'n_units_l6': 80, 'dropout_l6': 0.35710382765960813, 'optimizer': 'SGD', 'lr': 0.0004100996221868376}. Best is trial 0 with value: 0.1.\u001b[0m\n"
     ]
    }
   ],
   "source": [
    "if __name__ == \"__main__\":\n",
    "    study = optuna.create_study(directions=[\"maximize\"])\n",
    "    study.optimize(objective, n_trials=1)"
   ]
  }
 ],
 "metadata": {
  "interpreter": {
   "hash": "e31c68abf1d5dd3f9e2269f23eadf1b199587e56c0618a30760176a65ebfcab4"
  },
  "kernelspec": {
   "display_name": "Python 3 (ipykernel)",
   "language": "python",
   "name": "python3"
  },
  "language_info": {
   "codemirror_mode": {
    "name": "ipython",
    "version": 3
   },
   "file_extension": ".py",
   "mimetype": "text/x-python",
   "name": "python",
   "nbconvert_exporter": "python",
   "pygments_lexer": "ipython3",
   "version": "3.7.11"
  }
 },
 "nbformat": 4,
 "nbformat_minor": 4
}
