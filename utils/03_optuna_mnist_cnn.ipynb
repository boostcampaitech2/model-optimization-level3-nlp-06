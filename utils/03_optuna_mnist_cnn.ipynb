{
 "cells": [
  {
   "cell_type": "markdown",
   "metadata": {},
   "source": [
    "# Optuna Fashion MNIST CNN Model Usage"
   ]
  },
  {
   "cell_type": "code",
   "execution_count": 1,
   "metadata": {},
   "outputs": [],
   "source": [
    "import os\n",
    "import optuna\n",
    "\n",
    "import torch\n",
    "import torch.nn as nn\n",
    "import torch.nn.functional as F\n",
    "import torch.optim as optim\n",
    "import torch.utils.data\n",
    "from torchvision import datasets\n",
    "from torchvision import transforms"
   ]
  },
  {
   "cell_type": "markdown",
   "metadata": {},
   "source": [
    "### 1. Set HyperParameter"
   ]
  },
  {
   "cell_type": "code",
   "execution_count": 2,
   "metadata": {},
   "outputs": [
    {
     "name": "stdout",
     "output_type": "stream",
     "text": [
      "cuda\n"
     ]
    }
   ],
   "source": [
    "BATCHSIZE = 128\n",
    "CLASSES = 10\n",
    "EPOCHS = 10\n",
    "DIR = os.getcwd()\n",
    "\n",
    "DEVICE = torch.device('cuda' if torch.cuda.is_available() else 'cpu')\n",
    "print(DEVICE)\n",
    "\n",
    "N_TRAIN_EXAMPLES = BATCHSIZE * 469 # Fashion MNIST Full Dataset size\n",
    "N_VALID_EXAMPLES = BATCHSIZE * 79"
   ]
  },
  {
   "cell_type": "markdown",
   "metadata": {},
   "source": [
    "### 2. Get FashionMNIST to dataloader"
   ]
  },
  {
   "cell_type": "code",
   "execution_count": 3,
   "metadata": {},
   "outputs": [],
   "source": [
    "def get_mnist():\n",
    "    # Load FashionMNIST dataset.\n",
    "    train_loader = torch.utils.data.DataLoader(\n",
    "        datasets.FashionMNIST(DIR, train=True, download=True, transform=transforms.ToTensor()),\n",
    "        batch_size=BATCHSIZE,\n",
    "        shuffle=True,\n",
    "    )\n",
    "    valid_loader = torch.utils.data.DataLoader(\n",
    "        datasets.FashionMNIST(DIR, train=False, transform=transforms.ToTensor()),\n",
    "        batch_size=BATCHSIZE,\n",
    "        shuffle=True,\n",
    "    )\n",
    "    return train_loader, valid_loader"
   ]
  },
  {
   "cell_type": "markdown",
   "metadata": {},
   "source": [
    "### 3. Trial Model"
   ]
  },
  {
   "cell_type": "code",
   "execution_count": 4,
   "metadata": {},
   "outputs": [],
   "source": [
    "class ConvNets(nn.Module):\n",
    "    def __init__(self, trial):\n",
    "        super().__init__()\n",
    "        self.out_layer = None\n",
    "        self.layer = self.define_model(trial)\n",
    "        self.in_features = None\n",
    "        self.in_channel = None\n",
    "\n",
    "\n",
    "    def define_model(self, trial):\n",
    "        n_layers = trial.suggest_int(\"n_layers\", 1, 2)\n",
    "        layers = []\n",
    "        self.in_features = 28\n",
    "        self.in_channel = 1\n",
    "\n",
    "        for i in range(n_layers):\n",
    "            out_channel = trial.suggest_int(f\"conv_c{i}\", 32, 512),\n",
    "            kernel_size = trial.suggest_int(f\"conv_k{i}\", 3, 5)\n",
    "            stride = trial.suggest_int(f\"conv_s{i}\", 1, 2)\n",
    "            padding = trial.suggest_int(f\"conv_p{i}\", 0, 2)\n",
    "            layers.append(nn.Conv2d(self.in_channel, out_channel[0], kernel_size, stride, padding))\n",
    "            layers.append(nn.BatchNorm2d(out_channel[0]))\n",
    "            layers.append(nn.ReLU())\n",
    "            layers.append(nn.MaxPool2d(kernel_size=2,stride=2))\n",
    "\n",
    "            out_features = (self.in_features - kernel_size + 2*padding) // (stride) + 1\n",
    "            out_features = out_features // 2\n",
    "            print(f\"conv_layer_{i}:\", self.in_channel, out_channel, self.in_features, out_features, kernel_size, stride, padding)\n",
    "            self.in_features = out_features\n",
    "            self.in_channel = out_channel[0]\n",
    "\n",
    "        print('pow(self.in_features,2)* self.in_channel:',pow(self.in_features,2)* self.in_channel)\n",
    "        p = trial.suggest_float(\"dropout_l{}\".format(i), 0.0, 0.5)\n",
    "        layers.append(nn.Flatten())\n",
    "\n",
    "        layers.append(nn.Linear(pow(self.in_features,2)* self.in_channel, 1000))\n",
    "        layers.append(nn.Dropout(p))\n",
    "        layers.append(nn.Linear(1000, 10))\n",
    "        layers.append(nn.LogSoftmax(dim=1))\n",
    "        return nn.Sequential(*layers)\n",
    "\n",
    "    def forward(self, x):\n",
    "        x = self.layer(x)\n",
    "\n",
    "    def forward(self, x):\n",
    "        x = self.layer(x)\n",
    "        return x"
   ]
  },
  {
   "cell_type": "markdown",
   "metadata": {},
   "source": [
    "### 4. objective funtion for optuna"
   ]
  },
  {
   "cell_type": "code",
   "execution_count": 5,
   "metadata": {},
   "outputs": [],
   "source": [
    "def objective(trial):\n",
    "    model = ConvNets(trial).to(DEVICE)\n",
    "\n",
    "    optimizer_name = trial.suggest_categorical(\"optimizer\", [\"Adam\"])# \"RMSprop\"])\n",
    "    lr = trial.suggest_float(\"lr\", 1e-5, 1e-3, log=True)\n",
    "    optimizer = getattr(optim, optimizer_name)(model.parameters(), lr=lr)\n",
    "    \n",
    "    train_loader, valid_loader = get_mnist()\n",
    "    #epochs = trial.suggest_int(\"epochs\", 1, EPOCHS)\n",
    "\n",
    "    #with tqdm(range(EPOCHS), total=EPOCHS, unit='epoch') as bar:\n",
    "    for epoch in range(EPOCHS):\n",
    "        #bar.set_description(f\"Epoch {epoch}\")\n",
    "\n",
    "        model.train()\n",
    "        for batch_idx, (data, target) in enumerate(train_loader):\n",
    "            if batch_idx * BATCHSIZE >= N_TRAIN_EXAMPLES:\n",
    "                break\n",
    "            data, target = data.to(DEVICE), target.to(DEVICE)\n",
    "            optimizer.zero_grad()\n",
    "            output = model(data)\n",
    "            loss = F.nll_loss(output, target)\n",
    "            loss.backward()\n",
    "            optimizer.step()\n",
    "\n",
    "        model.eval()\n",
    "        correct = 0\n",
    "        with torch.no_grad():\n",
    "            for batch_idx, (data, target) in enumerate(valid_loader):\n",
    "                if batch_idx * BATCHSIZE >= N_VALID_EXAMPLES:\n",
    "                    break\n",
    "                \n",
    "                data, target = data.to(DEVICE), target.to(DEVICE)\n",
    "                output = model(data)\n",
    "\n",
    "                pred = output.argmax(dim=1, keepdim=True)\n",
    "                correct += pred.eq(target.view_as(pred)).sum().item()\n",
    "\n",
    "        accuracy = correct / min(len(valid_loader.dataset), N_VALID_EXAMPLES)\n",
    "        trial.report(accuracy, epoch)\n",
    "\n",
    "        if trial.should_prune():\n",
    "            raise optuna.exceptions.TrialPruned()\n",
    "\n",
    "    return accuracy"
   ]
  },
  {
   "cell_type": "markdown",
   "metadata": {},
   "source": [
    "### 5. Run optuna study"
   ]
  },
  {
   "cell_type": "code",
   "execution_count": 7,
   "metadata": {},
   "outputs": [
    {
     "name": "stderr",
     "output_type": "stream",
     "text": [
      "\u001b[32m[I 2021-12-03 01:31:04,893]\u001b[0m A new study created in memory with name: no-name-e97b3063-bec2-4ab9-bd2f-8cd70ebaad87\u001b[0m\n"
     ]
    },
    {
     "name": "stdout",
     "output_type": "stream",
     "text": [
      "conv_layer_0: 1 (437,) 28 13 3 1 0\n",
      "conv_layer_1: 437 (177,) 13 5 3 1 0\n",
      "pow(self.in_features,2)* self.in_channel: 4425\n"
     ]
    },
    {
     "name": "stderr",
     "output_type": "stream",
     "text": [
      "\u001b[32m[I 2021-12-03 01:32:32,503]\u001b[0m Trial 0 finished with value: 0.9021 and parameters: {'n_layers': 2, 'conv_c0': 437, 'conv_k0': 3, 'conv_s0': 1, 'conv_p0': 0, 'conv_c1': 177, 'conv_k1': 3, 'conv_s1': 1, 'conv_p1': 0, 'dropout_l1': 0.03260415135591671, 'optimizer': 'Adam', 'lr': 0.0002935346978904121}. Best is trial 0 with value: 0.9021.\u001b[0m\n"
     ]
    },
    {
     "name": "stdout",
     "output_type": "stream",
     "text": [
      "conv_layer_0: 1 (54,) 28 14 3 1 1\n",
      "pow(self.in_features,2)* self.in_channel: 10584\n"
     ]
    },
    {
     "name": "stderr",
     "output_type": "stream",
     "text": [
      "\u001b[32m[I 2021-12-03 01:33:31,466]\u001b[0m Trial 1 finished with value: 0.9028 and parameters: {'n_layers': 1, 'conv_c0': 54, 'conv_k0': 3, 'conv_s0': 1, 'conv_p0': 1, 'dropout_l0': 0.2758804391215436, 'optimizer': 'Adam', 'lr': 4.36900407387453e-05}. Best is trial 1 with value: 0.9028.\u001b[0m\n"
     ]
    },
    {
     "name": "stdout",
     "output_type": "stream",
     "text": [
      "conv_layer_0: 1 (294,) 28 7 5 2 2\n",
      "pow(self.in_features,2)* self.in_channel: 14406\n"
     ]
    },
    {
     "name": "stderr",
     "output_type": "stream",
     "text": [
      "\u001b[32m[I 2021-12-03 01:34:31,250]\u001b[0m Trial 2 finished with value: 0.8914 and parameters: {'n_layers': 1, 'conv_c0': 294, 'conv_k0': 5, 'conv_s0': 2, 'conv_p0': 2, 'dropout_l0': 0.05092821754114957, 'optimizer': 'Adam', 'lr': 0.00017815576583814699}. Best is trial 1 with value: 0.9028.\u001b[0m\n"
     ]
    },
    {
     "name": "stdout",
     "output_type": "stream",
     "text": [
      "conv_layer_0: 1 (42,) 28 7 4 2 2\n",
      "pow(self.in_features,2)* self.in_channel: 2058\n"
     ]
    },
    {
     "name": "stderr",
     "output_type": "stream",
     "text": [
      "\u001b[32m[I 2021-12-03 01:35:29,995]\u001b[0m Trial 3 finished with value: 0.8857 and parameters: {'n_layers': 1, 'conv_c0': 42, 'conv_k0': 4, 'conv_s0': 2, 'conv_p0': 2, 'dropout_l0': 0.30400820232254694, 'optimizer': 'Adam', 'lr': 9.914588348531197e-05}. Best is trial 1 with value: 0.9028.\u001b[0m\n"
     ]
    },
    {
     "name": "stdout",
     "output_type": "stream",
     "text": [
      "conv_layer_0: 1 (43,) 28 12 5 1 0\n",
      "pow(self.in_features,2)* self.in_channel: 6192\n"
     ]
    },
    {
     "name": "stderr",
     "output_type": "stream",
     "text": [
      "\u001b[32m[I 2021-12-03 01:36:30,583]\u001b[0m Trial 4 finished with value: 0.8877 and parameters: {'n_layers': 1, 'conv_c0': 43, 'conv_k0': 5, 'conv_s0': 1, 'conv_p0': 0, 'dropout_l0': 0.22199446915420012, 'optimizer': 'Adam', 'lr': 0.00014805916630187147}. Best is trial 1 with value: 0.9028.\u001b[0m\n"
     ]
    },
    {
     "name": "stdout",
     "output_type": "stream",
     "text": [
      "conv_layer_0: 1 (276,) 28 13 5 1 1\n",
      "conv_layer_1: 276 (192,) 13 3 5 2 2\n",
      "pow(self.in_features,2)* self.in_channel: 1728\n"
     ]
    },
    {
     "name": "stderr",
     "output_type": "stream",
     "text": [
      "\u001b[32m[I 2021-12-03 01:37:51,624]\u001b[0m Trial 5 finished with value: 0.9086 and parameters: {'n_layers': 2, 'conv_c0': 276, 'conv_k0': 5, 'conv_s0': 1, 'conv_p0': 1, 'conv_c1': 192, 'conv_k1': 5, 'conv_s1': 2, 'conv_p1': 2, 'dropout_l1': 0.17554277873756574, 'optimizer': 'Adam', 'lr': 0.0005073383573725388}. Best is trial 5 with value: 0.9086.\u001b[0m\n"
     ]
    },
    {
     "name": "stdout",
     "output_type": "stream",
     "text": [
      "conv_layer_0: 1 (376,) 28 12 4 1 0\n",
      "pow(self.in_features,2)* self.in_channel: 54144\n"
     ]
    },
    {
     "name": "stderr",
     "output_type": "stream",
     "text": [
      "\u001b[32m[I 2021-12-03 01:38:02,105]\u001b[0m Trial 6 pruned. \u001b[0m\n"
     ]
    },
    {
     "name": "stdout",
     "output_type": "stream",
     "text": [
      "conv_layer_0: 1 (365,) 28 7 4 2 1\n",
      "conv_layer_1: 365 (74,) 7 1 4 2 1\n",
      "pow(self.in_features,2)* self.in_channel: 74\n"
     ]
    },
    {
     "name": "stderr",
     "output_type": "stream",
     "text": [
      "\u001b[32m[I 2021-12-03 01:38:08,775]\u001b[0m Trial 7 pruned. \u001b[0m\n"
     ]
    },
    {
     "name": "stdout",
     "output_type": "stream",
     "text": [
      "conv_layer_0: 1 (84,) 28 7 4 2 1\n",
      "pow(self.in_features,2)* self.in_channel: 4116\n"
     ]
    },
    {
     "name": "stderr",
     "output_type": "stream",
     "text": [
      "\u001b[32m[I 2021-12-03 01:38:14,762]\u001b[0m Trial 8 pruned. \u001b[0m\n"
     ]
    },
    {
     "name": "stdout",
     "output_type": "stream",
     "text": [
      "conv_layer_0: 1 (494,) 28 12 4 1 0\n",
      "pow(self.in_features,2)* self.in_channel: 71136\n"
     ]
    },
    {
     "name": "stderr",
     "output_type": "stream",
     "text": [
      "\u001b[32m[I 2021-12-03 01:38:28,255]\u001b[0m Trial 9 pruned. \u001b[0m\n"
     ]
    },
    {
     "name": "stdout",
     "output_type": "stream",
     "text": [
      "conv_layer_0: 1 (176,) 28 14 5 1 2\n",
      "conv_layer_1: 176 (431,) 14 3 5 2 2\n",
      "pow(self.in_features,2)* self.in_channel: 3879\n"
     ]
    },
    {
     "name": "stderr",
     "output_type": "stream",
     "text": [
      "\u001b[32m[I 2021-12-03 01:38:37,448]\u001b[0m Trial 10 pruned. \u001b[0m\n"
     ]
    },
    {
     "name": "stdout",
     "output_type": "stream",
     "text": [
      "conv_layer_0: 1 (202,) 28 14 3 1 1\n",
      "conv_layer_1: 202 (312,) 14 3 5 2 2\n",
      "pow(self.in_features,2)* self.in_channel: 2808\n"
     ]
    },
    {
     "name": "stderr",
     "output_type": "stream",
     "text": [
      "\u001b[32m[I 2021-12-03 01:38:53,229]\u001b[0m Trial 11 pruned. \u001b[0m\n"
     ]
    },
    {
     "name": "stdout",
     "output_type": "stream",
     "text": [
      "conv_layer_0: 1 (234,) 28 14 3 1 1\n",
      "conv_layer_1: 234 (260,) 14 7 5 1 2\n",
      "pow(self.in_features,2)* self.in_channel: 12740\n"
     ]
    },
    {
     "name": "stderr",
     "output_type": "stream",
     "text": [
      "\u001b[32m[I 2021-12-03 01:39:16,847]\u001b[0m Trial 12 pruned. \u001b[0m\n"
     ]
    },
    {
     "name": "stdout",
     "output_type": "stream",
     "text": [
      "conv_layer_0: 1 (116,) 28 13 5 1 1\n",
      "conv_layer_1: 116 (49,) 13 3 4 2 1\n",
      "pow(self.in_features,2)* self.in_channel: 441\n"
     ]
    },
    {
     "name": "stderr",
     "output_type": "stream",
     "text": [
      "\u001b[32m[I 2021-12-03 01:39:23,819]\u001b[0m Trial 13 pruned. \u001b[0m\n"
     ]
    },
    {
     "name": "stdout",
     "output_type": "stream",
     "text": [
      "conv_layer_0: 1 (287,) 28 14 3 1 1\n",
      "conv_layer_1: 287 (467,) 14 6 3 1 0\n",
      "pow(self.in_features,2)* self.in_channel: 16812\n"
     ]
    },
    {
     "name": "stderr",
     "output_type": "stream",
     "text": [
      "\u001b[32m[I 2021-12-03 01:39:42,982]\u001b[0m Trial 14 pruned. \u001b[0m\n"
     ]
    },
    {
     "name": "stdout",
     "output_type": "stream",
     "text": [
      "conv_layer_0: 1 (153,) 28 14 5 1 2\n",
      "pow(self.in_features,2)* self.in_channel: 29988\n"
     ]
    },
    {
     "name": "stderr",
     "output_type": "stream",
     "text": [
      "\u001b[32m[I 2021-12-03 01:39:49,283]\u001b[0m Trial 15 pruned. \u001b[0m\n"
     ]
    },
    {
     "name": "stdout",
     "output_type": "stream",
     "text": [
      "conv_layer_0: 1 (339,) 28 14 3 1 1\n",
      "pow(self.in_features,2)* self.in_channel: 66444\n"
     ]
    },
    {
     "name": "stderr",
     "output_type": "stream",
     "text": [
      "\u001b[32m[I 2021-12-03 01:40:00,906]\u001b[0m Trial 16 pruned. \u001b[0m\n"
     ]
    },
    {
     "name": "stdout",
     "output_type": "stream",
     "text": [
      "conv_layer_0: 1 (225,) 28 6 4 2 0\n",
      "conv_layer_1: 225 (193,) 6 1 5 2 2\n",
      "pow(self.in_features,2)* self.in_channel: 193\n"
     ]
    },
    {
     "name": "stderr",
     "output_type": "stream",
     "text": [
      "\u001b[32m[I 2021-12-03 01:40:07,304]\u001b[0m Trial 17 pruned. \u001b[0m\n"
     ]
    },
    {
     "name": "stdout",
     "output_type": "stream",
     "text": [
      "conv_layer_0: 1 (120,) 28 13 4 1 1\n",
      "pow(self.in_features,2)* self.in_channel: 20280\n"
     ]
    },
    {
     "name": "stderr",
     "output_type": "stream",
     "text": [
      "\u001b[32m[I 2021-12-03 01:40:13,379]\u001b[0m Trial 18 pruned. \u001b[0m\n"
     ]
    },
    {
     "name": "stdout",
     "output_type": "stream",
     "text": [
      "conv_layer_0: 1 (254,) 28 15 3 1 2\n",
      "conv_layer_1: 254 (342,) 15 7 4 1 1\n",
      "pow(self.in_features,2)* self.in_channel: 16758\n"
     ]
    },
    {
     "name": "stderr",
     "output_type": "stream",
     "text": [
      "\u001b[32m[I 2021-12-03 01:42:35,525]\u001b[0m Trial 19 finished with value: 0.9193 and parameters: {'n_layers': 2, 'conv_c0': 254, 'conv_k0': 3, 'conv_s0': 1, 'conv_p0': 2, 'conv_c1': 342, 'conv_k1': 4, 'conv_s1': 1, 'conv_p1': 1, 'dropout_l1': 0.29571948487564875, 'optimizer': 'Adam', 'lr': 1.0298143526057762e-05}. Best is trial 19 with value: 0.9193.\u001b[0m\n"
     ]
    },
    {
     "name": "stdout",
     "output_type": "stream",
     "text": [
      "conv_layer_0: 1 (266,) 28 7 5 2 2\n",
      "conv_layer_1: 266 (353,) 7 3 4 1 1\n",
      "pow(self.in_features,2)* self.in_channel: 3177\n"
     ]
    },
    {
     "name": "stderr",
     "output_type": "stream",
     "text": [
      "\u001b[32m[I 2021-12-03 01:42:43,960]\u001b[0m Trial 20 pruned. \u001b[0m\n"
     ]
    },
    {
     "name": "stdout",
     "output_type": "stream",
     "text": [
      "conv_layer_0: 1 (319,) 28 15 3 1 2\n",
      "conv_layer_1: 319 (194,) 15 7 4 1 1\n",
      "pow(self.in_features,2)* self.in_channel: 9506\n"
     ]
    },
    {
     "name": "stderr",
     "output_type": "stream",
     "text": [
      "\u001b[32m[I 2021-12-03 01:44:53,137]\u001b[0m Trial 21 finished with value: 0.9125 and parameters: {'n_layers': 2, 'conv_c0': 319, 'conv_k0': 3, 'conv_s0': 1, 'conv_p0': 2, 'conv_c1': 194, 'conv_k1': 4, 'conv_s1': 1, 'conv_p1': 1, 'dropout_l1': 0.12046963675855712, 'optimizer': 'Adam', 'lr': 1.0023268845787279e-05}. Best is trial 19 with value: 0.9193.\u001b[0m\n"
     ]
    },
    {
     "name": "stdout",
     "output_type": "stream",
     "text": [
      "conv_layer_0: 1 (326,) 28 15 3 1 2\n",
      "conv_layer_1: 326 (185,) 15 7 4 1 1\n",
      "pow(self.in_features,2)* self.in_channel: 9065\n"
     ]
    },
    {
     "name": "stderr",
     "output_type": "stream",
     "text": [
      "\u001b[32m[I 2021-12-03 01:45:05,992]\u001b[0m Trial 22 pruned. \u001b[0m\n"
     ]
    },
    {
     "name": "stdout",
     "output_type": "stream",
     "text": [
      "conv_layer_0: 1 (414,) 28 15 3 1 2\n",
      "conv_layer_1: 414 (238,) 15 7 4 1 1\n",
      "pow(self.in_features,2)* self.in_channel: 11662\n"
     ]
    },
    {
     "name": "stderr",
     "output_type": "stream",
     "text": [
      "\u001b[32m[I 2021-12-03 01:47:57,709]\u001b[0m Trial 23 finished with value: 0.9103 and parameters: {'n_layers': 2, 'conv_c0': 414, 'conv_k0': 3, 'conv_s0': 1, 'conv_p0': 2, 'conv_c1': 238, 'conv_k1': 4, 'conv_s1': 1, 'conv_p1': 1, 'dropout_l1': 0.2623266544074485, 'optimizer': 'Adam', 'lr': 1.0152435175647283e-05}. Best is trial 19 with value: 0.9193.\u001b[0m\n"
     ]
    },
    {
     "name": "stdout",
     "output_type": "stream",
     "text": [
      "conv_layer_0: 1 (418,) 28 15 3 1 2\n",
      "conv_layer_1: 418 (370,) 15 7 4 1 1\n",
      "pow(self.in_features,2)* self.in_channel: 18130\n"
     ]
    },
    {
     "name": "stderr",
     "output_type": "stream",
     "text": [
      "\u001b[32m[I 2021-12-03 01:51:42,011]\u001b[0m Trial 24 finished with value: 0.9138 and parameters: {'n_layers': 2, 'conv_c0': 418, 'conv_k0': 3, 'conv_s0': 1, 'conv_p0': 2, 'conv_c1': 370, 'conv_k1': 4, 'conv_s1': 1, 'conv_p1': 1, 'dropout_l1': 0.28145866398699226, 'optimizer': 'Adam', 'lr': 1.128417852374347e-05}. Best is trial 19 with value: 0.9193.\u001b[0m\n"
     ]
    },
    {
     "name": "stdout",
     "output_type": "stream",
     "text": [
      "conv_layer_0: 1 (508,) 28 15 3 1 2\n",
      "conv_layer_1: 508 (382,) 15 6 3 1 0\n",
      "pow(self.in_features,2)* self.in_channel: 13752\n"
     ]
    },
    {
     "name": "stderr",
     "output_type": "stream",
     "text": [
      "\u001b[32m[I 2021-12-03 01:52:12,076]\u001b[0m Trial 25 pruned. \u001b[0m\n"
     ]
    },
    {
     "name": "stdout",
     "output_type": "stream",
     "text": [
      "conv_layer_0: 1 (444,) 28 15 3 1 2\n",
      "conv_layer_1: 444 (329,) 15 7 4 1 1\n",
      "pow(self.in_features,2)* self.in_channel: 16121\n"
     ]
    },
    {
     "name": "stderr",
     "output_type": "stream",
     "text": [
      "\u001b[32m[I 2021-12-03 01:53:17,437]\u001b[0m Trial 26 pruned. \u001b[0m\n"
     ]
    },
    {
     "name": "stdout",
     "output_type": "stream",
     "text": [
      "conv_layer_0: 1 (399,) 28 15 3 1 2\n",
      "conv_layer_1: 399 (413,) 15 7 4 1 1\n",
      "pow(self.in_features,2)* self.in_channel: 20237\n"
     ]
    },
    {
     "name": "stderr",
     "output_type": "stream",
     "text": [
      "\u001b[32m[I 2021-12-03 01:57:05,469]\u001b[0m Trial 27 finished with value: 0.9139 and parameters: {'n_layers': 2, 'conv_c0': 399, 'conv_k0': 3, 'conv_s0': 1, 'conv_p0': 2, 'conv_c1': 413, 'conv_k1': 4, 'conv_s1': 1, 'conv_p1': 1, 'dropout_l1': 0.26114374173113913, 'optimizer': 'Adam', 'lr': 1.3393052998664899e-05}. Best is trial 19 with value: 0.9193.\u001b[0m\n"
     ]
    },
    {
     "name": "stdout",
     "output_type": "stream",
     "text": [
      "conv_layer_0: 1 (393,) 28 15 3 1 2\n",
      "conv_layer_1: 393 (411,) 15 7 4 1 1\n",
      "pow(self.in_features,2)* self.in_channel: 20139\n"
     ]
    },
    {
     "name": "stderr",
     "output_type": "stream",
     "text": [
      "\u001b[32m[I 2021-12-03 02:00:52,025]\u001b[0m Trial 28 finished with value: 0.9072 and parameters: {'n_layers': 2, 'conv_c0': 393, 'conv_k0': 3, 'conv_s0': 1, 'conv_p0': 2, 'conv_c1': 411, 'conv_k1': 4, 'conv_s1': 1, 'conv_p1': 1, 'dropout_l1': 0.25619105949517307, 'optimizer': 'Adam', 'lr': 1.4283745824684913e-05}. Best is trial 19 with value: 0.9193.\u001b[0m\n"
     ]
    },
    {
     "name": "stdout",
     "output_type": "stream",
     "text": [
      "conv_layer_0: 1 (466,) 28 15 3 1 2\n",
      "conv_layer_1: 466 (476,) 15 7 4 1 1\n",
      "pow(self.in_features,2)* self.in_channel: 23324\n"
     ]
    },
    {
     "name": "stderr",
     "output_type": "stream",
     "text": [
      "\u001b[32m[I 2021-12-03 02:01:48,126]\u001b[0m Trial 29 pruned. \u001b[0m\n"
     ]
    },
    {
     "name": "stdout",
     "output_type": "stream",
     "text": [
      "conv_layer_0: 1 (423,) 28 15 3 1 2\n",
      "conv_layer_1: 423 (395,) 15 6 3 1 0\n",
      "pow(self.in_features,2)* self.in_channel: 14220\n"
     ]
    },
    {
     "name": "stderr",
     "output_type": "stream",
     "text": [
      "\u001b[32m[I 2021-12-03 02:02:43,703]\u001b[0m Trial 30 pruned. \u001b[0m\n"
     ]
    },
    {
     "name": "stdout",
     "output_type": "stream",
     "text": [
      "conv_layer_0: 1 (340,) 28 15 3 1 2\n",
      "conv_layer_1: 340 (295,) 15 7 4 1 1\n",
      "pow(self.in_features,2)* self.in_channel: 14455\n"
     ]
    },
    {
     "name": "stderr",
     "output_type": "stream",
     "text": [
      "\u001b[32m[I 2021-12-03 02:03:17,119]\u001b[0m Trial 31 pruned. \u001b[0m\n"
     ]
    },
    {
     "name": "stdout",
     "output_type": "stream",
     "text": [
      "conv_layer_0: 1 (313,) 28 15 3 1 2\n",
      "conv_layer_1: 313 (364,) 15 7 4 1 1\n",
      "pow(self.in_features,2)* self.in_channel: 17836\n"
     ]
    },
    {
     "name": "stderr",
     "output_type": "stream",
     "text": [
      "\u001b[32m[I 2021-12-03 02:06:12,177]\u001b[0m Trial 32 finished with value: 0.9219 and parameters: {'n_layers': 2, 'conv_c0': 313, 'conv_k0': 3, 'conv_s0': 1, 'conv_p0': 2, 'conv_c1': 364, 'conv_k1': 4, 'conv_s1': 1, 'conv_p1': 1, 'dropout_l1': 0.2809203141320337, 'optimizer': 'Adam', 'lr': 1.2148548942572757e-05}. Best is trial 32 with value: 0.9219.\u001b[0m\n"
     ]
    },
    {
     "name": "stdout",
     "output_type": "stream",
     "text": [
      "conv_layer_0: 1 (450,) 28 15 3 1 2\n",
      "conv_layer_1: 450 (358,) 15 7 4 1 1\n",
      "pow(self.in_features,2)* self.in_channel: 17542\n"
     ]
    },
    {
     "name": "stderr",
     "output_type": "stream",
     "text": [
      "\u001b[32m[I 2021-12-03 02:10:04,631]\u001b[0m Trial 33 finished with value: 0.917 and parameters: {'n_layers': 2, 'conv_c0': 450, 'conv_k0': 3, 'conv_s0': 1, 'conv_p0': 2, 'conv_c1': 358, 'conv_k1': 4, 'conv_s1': 1, 'conv_p1': 1, 'dropout_l1': 0.28144851686579203, 'optimizer': 'Adam', 'lr': 1.3697715317500567e-05}. Best is trial 32 with value: 0.9219.\u001b[0m\n"
     ]
    },
    {
     "name": "stdout",
     "output_type": "stream",
     "text": [
      "conv_layer_0: 1 (476,) 28 15 3 1 2\n",
      "conv_layer_1: 476 (438,) 15 7 4 1 1\n",
      "pow(self.in_features,2)* self.in_channel: 21462\n"
     ]
    },
    {
     "name": "stderr",
     "output_type": "stream",
     "text": [
      "\u001b[32m[I 2021-12-03 02:14:32,392]\u001b[0m Trial 34 finished with value: 0.9203 and parameters: {'n_layers': 2, 'conv_c0': 476, 'conv_k0': 3, 'conv_s0': 1, 'conv_p0': 2, 'conv_c1': 438, 'conv_k1': 4, 'conv_s1': 1, 'conv_p1': 1, 'dropout_l1': 0.33276386240769035, 'optimizer': 'Adam', 'lr': 2.1245109611649717e-05}. Best is trial 32 with value: 0.9219.\u001b[0m\n"
     ]
    },
    {
     "name": "stdout",
     "output_type": "stream",
     "text": [
      "conv_layer_0: 1 (464,) 28 15 3 1 2\n",
      "conv_layer_1: 464 (446,) 15 7 4 1 1\n",
      "pow(self.in_features,2)* self.in_channel: 21854\n"
     ]
    },
    {
     "name": "stderr",
     "output_type": "stream",
     "text": [
      "\u001b[32m[I 2021-12-03 02:14:58,904]\u001b[0m Trial 35 pruned. \u001b[0m\n"
     ]
    },
    {
     "name": "stdout",
     "output_type": "stream",
     "text": [
      "conv_layer_0: 1 (480,) 28 15 3 1 2\n",
      "conv_layer_1: 480 (343,) 15 7 4 1 1\n",
      "pow(self.in_features,2)* self.in_channel: 16807\n"
     ]
    },
    {
     "name": "stderr",
     "output_type": "stream",
     "text": [
      "\u001b[32m[I 2021-12-03 02:18:46,801]\u001b[0m Trial 36 finished with value: 0.9185 and parameters: {'n_layers': 2, 'conv_c0': 480, 'conv_k0': 3, 'conv_s0': 1, 'conv_p0': 2, 'conv_c1': 343, 'conv_k1': 4, 'conv_s1': 1, 'conv_p1': 1, 'dropout_l1': 0.33073821943126647, 'optimizer': 'Adam', 'lr': 1.9652527556992335e-05}. Best is trial 32 with value: 0.9219.\u001b[0m\n"
     ]
    },
    {
     "name": "stdout",
     "output_type": "stream",
     "text": [
      "conv_layer_0: 1 (260,) 28 7 4 2 2\n",
      "conv_layer_1: 260 (501,) 7 2 3 1 0\n",
      "pow(self.in_features,2)* self.in_channel: 2004\n"
     ]
    },
    {
     "name": "stderr",
     "output_type": "stream",
     "text": [
      "\u001b[32m[I 2021-12-03 02:18:53,104]\u001b[0m Trial 37 pruned. \u001b[0m\n"
     ]
    },
    {
     "name": "stdout",
     "output_type": "stream",
     "text": [
      "conv_layer_0: 1 (493,) 28 15 3 1 2\n",
      "conv_layer_1: 493 (324,) 15 7 4 1 1\n",
      "pow(self.in_features,2)* self.in_channel: 15876\n"
     ]
    },
    {
     "name": "stderr",
     "output_type": "stream",
     "text": [
      "\u001b[32m[I 2021-12-03 02:22:48,966]\u001b[0m Trial 38 finished with value: 0.9135 and parameters: {'n_layers': 2, 'conv_c0': 493, 'conv_k0': 3, 'conv_s0': 1, 'conv_p0': 2, 'conv_c1': 324, 'conv_k1': 4, 'conv_s1': 1, 'conv_p1': 1, 'dropout_l1': 0.33647835863862374, 'optimizer': 'Adam', 'lr': 2.6894872024355296e-05}. Best is trial 32 with value: 0.9219.\u001b[0m\n"
     ]
    },
    {
     "name": "stdout",
     "output_type": "stream",
     "text": [
      "conv_layer_0: 1 (358,) 28 15 3 1 2\n",
      "conv_layer_1: 358 (288,) 15 7 4 1 1\n",
      "pow(self.in_features,2)* self.in_channel: 14112\n"
     ]
    },
    {
     "name": "stderr",
     "output_type": "stream",
     "text": [
      "\u001b[32m[I 2021-12-03 02:23:05,887]\u001b[0m Trial 39 pruned. \u001b[0m\n"
     ]
    },
    {
     "name": "stdout",
     "output_type": "stream",
     "text": [
      "conv_layer_0: 1 (304,) 28 7 4 2 2\n",
      "conv_layer_1: 304 (241,) 7 2 3 1 0\n",
      "pow(self.in_features,2)* self.in_channel: 964\n"
     ]
    },
    {
     "name": "stderr",
     "output_type": "stream",
     "text": [
      "\u001b[32m[I 2021-12-03 02:23:12,282]\u001b[0m Trial 40 pruned. \u001b[0m\n"
     ]
    },
    {
     "name": "stdout",
     "output_type": "stream",
     "text": [
      "conv_layer_0: 1 (462,) 28 15 3 1 2\n",
      "conv_layer_1: 462 (346,) 15 7 4 1 1\n",
      "pow(self.in_features,2)* self.in_channel: 16954\n"
     ]
    },
    {
     "name": "stderr",
     "output_type": "stream",
     "text": [
      "\u001b[32m[I 2021-12-03 02:25:29,736]\u001b[0m Trial 41 pruned. \u001b[0m\n"
     ]
    },
    {
     "name": "stdout",
     "output_type": "stream",
     "text": [
      "conv_layer_0: 1 (444,) 28 15 3 1 2\n",
      "conv_layer_1: 444 (366,) 15 7 4 1 1\n",
      "pow(self.in_features,2)* self.in_channel: 17934\n"
     ]
    },
    {
     "name": "stderr",
     "output_type": "stream",
     "text": [
      "\u001b[32m[I 2021-12-03 02:25:52,654]\u001b[0m Trial 42 pruned. \u001b[0m\n"
     ]
    },
    {
     "name": "stdout",
     "output_type": "stream",
     "text": [
      "conv_layer_0: 1 (482,) 28 15 3 1 2\n",
      "conv_layer_1: 482 (391,) 15 7 4 1 1\n",
      "pow(self.in_features,2)* self.in_channel: 19159\n"
     ]
    },
    {
     "name": "stderr",
     "output_type": "stream",
     "text": [
      "\u001b[32m[I 2021-12-03 02:26:19,005]\u001b[0m Trial 43 pruned. \u001b[0m\n"
     ]
    },
    {
     "name": "stdout",
     "output_type": "stream",
     "text": [
      "conv_layer_0: 1 (507,) 28 15 3 1 2\n",
      "conv_layer_1: 507 (347,) 15 7 4 1 1\n",
      "pow(self.in_features,2)* self.in_channel: 17003\n"
     ]
    },
    {
     "name": "stderr",
     "output_type": "stream",
     "text": [
      "\u001b[32m[I 2021-12-03 02:26:43,941]\u001b[0m Trial 44 pruned. \u001b[0m\n"
     ]
    },
    {
     "name": "stdout",
     "output_type": "stream",
     "text": [
      "conv_layer_0: 1 (382,) 28 14 4 1 2\n",
      "conv_layer_1: 382 (436,) 14 7 5 1 2\n",
      "pow(self.in_features,2)* self.in_channel: 21364\n"
     ]
    },
    {
     "name": "stderr",
     "output_type": "stream",
     "text": [
      "\u001b[32m[I 2021-12-03 02:27:20,108]\u001b[0m Trial 45 pruned. \u001b[0m\n"
     ]
    },
    {
     "name": "stdout",
     "output_type": "stream",
     "text": [
      "conv_layer_0: 1 (246,) 28 15 3 1 2\n",
      "conv_layer_1: 246 (305,) 15 7 4 1 1\n",
      "pow(self.in_features,2)* self.in_channel: 14945\n"
     ]
    },
    {
     "name": "stderr",
     "output_type": "stream",
     "text": [
      "\u001b[32m[I 2021-12-03 02:28:13,548]\u001b[0m Trial 46 pruned. \u001b[0m\n"
     ]
    },
    {
     "name": "stdout",
     "output_type": "stream",
     "text": [
      "conv_layer_0: 1 (433,) 28 14 3 1 1\n",
      "conv_layer_1: 433 (274,) 14 7 5 1 2\n",
      "pow(self.in_features,2)* self.in_channel: 13426\n"
     ]
    },
    {
     "name": "stderr",
     "output_type": "stream",
     "text": [
      "\u001b[32m[I 2021-12-03 02:28:43,122]\u001b[0m Trial 47 pruned. \u001b[0m\n"
     ]
    },
    {
     "name": "stdout",
     "output_type": "stream",
     "text": [
      "conv_layer_0: 1 (201,) 28 15 3 1 2\n",
      "conv_layer_1: 201 (408,) 15 3 4 2 1\n",
      "pow(self.in_features,2)* self.in_channel: 3672\n"
     ]
    },
    {
     "name": "stderr",
     "output_type": "stream",
     "text": [
      "\u001b[32m[I 2021-12-03 02:28:53,044]\u001b[0m Trial 48 pruned. \u001b[0m\n"
     ]
    },
    {
     "name": "stdout",
     "output_type": "stream",
     "text": [
      "conv_layer_0: 1 (484,) 28 13 4 1 1\n",
      "conv_layer_1: 484 (105,) 13 6 4 1 1\n",
      "pow(self.in_features,2)* self.in_channel: 3780\n"
     ]
    },
    {
     "name": "stderr",
     "output_type": "stream",
     "text": [
      "\u001b[32m[I 2021-12-03 02:29:05,718]\u001b[0m Trial 49 pruned. \u001b[0m\n"
     ]
    },
    {
     "name": "stdout",
     "output_type": "stream",
     "text": [
      "conv_layer_0: 1 (359,) 28 14 3 1 1\n",
      "pow(self.in_features,2)* self.in_channel: 70364\n"
     ]
    },
    {
     "name": "stderr",
     "output_type": "stream",
     "text": [
      "\u001b[32m[I 2021-12-03 02:29:17,980]\u001b[0m Trial 50 pruned. \u001b[0m\n"
     ]
    },
    {
     "name": "stdout",
     "output_type": "stream",
     "text": [
      "conv_layer_0: 1 (401,) 28 15 3 1 2\n",
      "conv_layer_1: 401 (418,) 15 7 4 1 1\n",
      "pow(self.in_features,2)* self.in_channel: 20482\n"
     ]
    },
    {
     "name": "stderr",
     "output_type": "stream",
     "text": [
      "\u001b[32m[I 2021-12-03 02:30:04,855]\u001b[0m Trial 51 pruned. \u001b[0m\n"
     ]
    },
    {
     "name": "stdout",
     "output_type": "stream",
     "text": [
      "conv_layer_0: 1 (450,) 28 15 3 1 2\n",
      "conv_layer_1: 450 (461,) 15 7 4 1 1\n",
      "pow(self.in_features,2)* self.in_channel: 22589\n"
     ]
    },
    {
     "name": "stderr",
     "output_type": "stream",
     "text": [
      "\u001b[32m[I 2021-12-03 02:30:59,735]\u001b[0m Trial 52 pruned. \u001b[0m\n"
     ]
    },
    {
     "name": "stdout",
     "output_type": "stream",
     "text": [
      "conv_layer_0: 1 (480,) 28 15 3 1 2\n",
      "conv_layer_1: 480 (338,) 15 7 4 1 1\n",
      "pow(self.in_features,2)* self.in_channel: 16562\n"
     ]
    },
    {
     "name": "stderr",
     "output_type": "stream",
     "text": [
      "\u001b[32m[I 2021-12-03 02:32:53,319]\u001b[0m Trial 53 pruned. \u001b[0m\n"
     ]
    },
    {
     "name": "stdout",
     "output_type": "stream",
     "text": [
      "conv_layer_0: 1 (402,) 28 15 3 1 2\n",
      "conv_layer_1: 402 (371,) 15 7 4 1 1\n",
      "pow(self.in_features,2)* self.in_channel: 18179\n"
     ]
    },
    {
     "name": "stderr",
     "output_type": "stream",
     "text": [
      "\u001b[32m[I 2021-12-03 02:34:19,361]\u001b[0m Trial 54 pruned. \u001b[0m\n"
     ]
    },
    {
     "name": "stdout",
     "output_type": "stream",
     "text": [
      "conv_layer_0: 1 (287,) 28 15 3 1 2\n",
      "conv_layer_1: 287 (433,) 15 3 4 2 1\n",
      "pow(self.in_features,2)* self.in_channel: 3897\n"
     ]
    },
    {
     "name": "stderr",
     "output_type": "stream",
     "text": [
      "\u001b[32m[I 2021-12-03 02:34:33,004]\u001b[0m Trial 55 pruned. \u001b[0m\n"
     ]
    },
    {
     "name": "stdout",
     "output_type": "stream",
     "text": [
      "conv_layer_0: 1 (199,) 28 13 3 1 0\n",
      "conv_layer_1: 199 (494,) 13 6 4 1 1\n",
      "pow(self.in_features,2)* self.in_channel: 17784\n"
     ]
    },
    {
     "name": "stderr",
     "output_type": "stream",
     "text": [
      "\u001b[32m[I 2021-12-03 02:34:45,163]\u001b[0m Trial 56 pruned. \u001b[0m\n"
     ]
    },
    {
     "name": "stdout",
     "output_type": "stream",
     "text": [
      "conv_layer_0: 1 (378,) 28 15 3 1 2\n",
      "conv_layer_1: 378 (399,) 15 7 5 1 2\n",
      "pow(self.in_features,2)* self.in_channel: 19551\n"
     ]
    },
    {
     "name": "stderr",
     "output_type": "stream",
     "text": [
      "\u001b[32m[I 2021-12-03 02:35:20,410]\u001b[0m Trial 57 pruned. \u001b[0m\n"
     ]
    },
    {
     "name": "stdout",
     "output_type": "stream",
     "text": [
      "conv_layer_0: 1 (462,) 28 15 3 1 2\n",
      "conv_layer_1: 462 (361,) 15 7 4 1 1\n",
      "pow(self.in_features,2)* self.in_channel: 17689\n"
     ]
    },
    {
     "name": "stderr",
     "output_type": "stream",
     "text": [
      "\u001b[32m[I 2021-12-03 02:36:31,798]\u001b[0m Trial 58 pruned. \u001b[0m\n"
     ]
    },
    {
     "name": "stdout",
     "output_type": "stream",
     "text": [
      "conv_layer_0: 1 (221,) 28 15 3 1 2\n",
      "conv_layer_1: 221 (320,) 15 7 4 1 1\n",
      "pow(self.in_features,2)* self.in_channel: 15680\n"
     ]
    },
    {
     "name": "stderr",
     "output_type": "stream",
     "text": [
      "\u001b[32m[I 2021-12-03 02:38:33,983]\u001b[0m Trial 59 finished with value: 0.919 and parameters: {'n_layers': 2, 'conv_c0': 221, 'conv_k0': 3, 'conv_s0': 1, 'conv_p0': 2, 'conv_c1': 320, 'conv_k1': 4, 'conv_s1': 1, 'conv_p1': 1, 'dropout_l1': 0.1986593303188836, 'optimizer': 'Adam', 'lr': 2.8632383229139503e-05}. Best is trial 32 with value: 0.9219.\u001b[0m\n"
     ]
    },
    {
     "name": "stdout",
     "output_type": "stream",
     "text": [
      "conv_layer_0: 1 (236,) 28 7 3 2 2\n",
      "pow(self.in_features,2)* self.in_channel: 11564\n"
     ]
    },
    {
     "name": "stderr",
     "output_type": "stream",
     "text": [
      "\u001b[32m[I 2021-12-03 02:38:39,876]\u001b[0m Trial 60 pruned. \u001b[0m\n"
     ]
    },
    {
     "name": "stdout",
     "output_type": "stream",
     "text": [
      "conv_layer_0: 1 (170,) 28 15 3 1 2\n",
      "conv_layer_1: 170 (319,) 15 7 4 1 1\n",
      "pow(self.in_features,2)* self.in_channel: 15631\n"
     ]
    },
    {
     "name": "stderr",
     "output_type": "stream",
     "text": [
      "\u001b[32m[I 2021-12-03 02:40:26,826]\u001b[0m Trial 61 finished with value: 0.9119 and parameters: {'n_layers': 2, 'conv_c0': 170, 'conv_k0': 3, 'conv_s0': 1, 'conv_p0': 2, 'conv_c1': 319, 'conv_k1': 4, 'conv_s1': 1, 'conv_p1': 1, 'dropout_l1': 0.15665800671950575, 'optimizer': 'Adam', 'lr': 1.481858263771214e-05}. Best is trial 32 with value: 0.9219.\u001b[0m\n"
     ]
    },
    {
     "name": "stdout",
     "output_type": "stream",
     "text": [
      "conv_layer_0: 1 (214,) 28 15 3 1 2\n",
      "conv_layer_1: 214 (378,) 15 7 4 1 1\n",
      "pow(self.in_features,2)* self.in_channel: 18522\n"
     ]
    },
    {
     "name": "stderr",
     "output_type": "stream",
     "text": [
      "\u001b[32m[I 2021-12-03 02:40:54,215]\u001b[0m Trial 62 pruned. \u001b[0m\n"
     ]
    },
    {
     "name": "stdout",
     "output_type": "stream",
     "text": [
      "conv_layer_0: 1 (304,) 28 15 3 1 2\n",
      "conv_layer_1: 304 (310,) 15 7 4 1 1\n",
      "pow(self.in_features,2)* self.in_channel: 15190\n"
     ]
    },
    {
     "name": "stderr",
     "output_type": "stream",
     "text": [
      "\u001b[32m[I 2021-12-03 02:41:09,546]\u001b[0m Trial 63 pruned. \u001b[0m\n"
     ]
    },
    {
     "name": "stdout",
     "output_type": "stream",
     "text": [
      "conv_layer_0: 1 (270,) 28 15 3 1 2\n",
      "conv_layer_1: 270 (339,) 15 7 4 1 1\n",
      "pow(self.in_features,2)* self.in_channel: 16611\n"
     ]
    },
    {
     "name": "stderr",
     "output_type": "stream",
     "text": [
      "\u001b[32m[I 2021-12-03 02:42:09,985]\u001b[0m Trial 64 pruned. \u001b[0m\n"
     ]
    },
    {
     "name": "stdout",
     "output_type": "stream",
     "text": [
      "conv_layer_0: 1 (439,) 28 15 3 1 2\n",
      "conv_layer_1: 439 (264,) 15 7 4 1 1\n",
      "pow(self.in_features,2)* self.in_channel: 12936\n"
     ]
    },
    {
     "name": "stderr",
     "output_type": "stream",
     "text": [
      "\u001b[32m[I 2021-12-03 02:43:06,608]\u001b[0m Trial 65 pruned. \u001b[0m\n"
     ]
    },
    {
     "name": "stdout",
     "output_type": "stream",
     "text": [
      "conv_layer_0: 1 (253,) 28 15 3 1 2\n",
      "conv_layer_1: 253 (420,) 15 7 4 1 1\n",
      "pow(self.in_features,2)* self.in_channel: 20580\n"
     ]
    },
    {
     "name": "stderr",
     "output_type": "stream",
     "text": [
      "\u001b[32m[I 2021-12-03 02:43:39,513]\u001b[0m Trial 66 pruned. \u001b[0m\n"
     ]
    },
    {
     "name": "stdout",
     "output_type": "stream",
     "text": [
      "conv_layer_0: 1 (149,) 28 14 4 1 2\n",
      "conv_layer_1: 149 (456,) 14 6 4 1 1\n",
      "pow(self.in_features,2)* self.in_channel: 16416\n"
     ]
    },
    {
     "name": "stderr",
     "output_type": "stream",
     "text": [
      "\u001b[32m[I 2021-12-03 02:43:49,968]\u001b[0m Trial 67 pruned. \u001b[0m\n"
     ]
    },
    {
     "name": "stdout",
     "output_type": "stream",
     "text": [
      "conv_layer_0: 1 (509,) 28 15 3 1 2\n",
      "conv_layer_1: 509 (384,) 15 3 3 2 0\n",
      "pow(self.in_features,2)* self.in_channel: 3456\n"
     ]
    },
    {
     "name": "stderr",
     "output_type": "stream",
     "text": [
      "\u001b[32m[I 2021-12-03 02:44:02,839]\u001b[0m Trial 68 pruned. \u001b[0m\n"
     ]
    },
    {
     "name": "stdout",
     "output_type": "stream",
     "text": [
      "conv_layer_0: 1 (419,) 28 14 3 1 1\n",
      "conv_layer_1: 419 (356,) 14 6 4 1 1\n",
      "pow(self.in_features,2)* self.in_channel: 12816\n"
     ]
    },
    {
     "name": "stderr",
     "output_type": "stream",
     "text": [
      "\u001b[32m[I 2021-12-03 02:44:20,385]\u001b[0m Trial 69 pruned. \u001b[0m\n"
     ]
    },
    {
     "name": "stdout",
     "output_type": "stream",
     "text": [
      "conv_layer_0: 1 (342,) 28 15 3 1 2\n",
      "conv_layer_1: 342 (285,) 15 7 4 1 1\n",
      "pow(self.in_features,2)* self.in_channel: 13965\n"
     ]
    },
    {
     "name": "stderr",
     "output_type": "stream",
     "text": [
      "\u001b[32m[I 2021-12-03 02:47:01,980]\u001b[0m Trial 70 finished with value: 0.9099 and parameters: {'n_layers': 2, 'conv_c0': 342, 'conv_k0': 3, 'conv_s0': 1, 'conv_p0': 2, 'conv_c1': 285, 'conv_k1': 4, 'conv_s1': 1, 'conv_p1': 1, 'dropout_l1': 0.2589597056114154, 'optimizer': 'Adam', 'lr': 1.972239669574233e-05}. Best is trial 32 with value: 0.9219.\u001b[0m\n"
     ]
    },
    {
     "name": "stdout",
     "output_type": "stream",
     "text": [
      "conv_layer_0: 1 (469,) 28 15 3 1 2\n",
      "conv_layer_1: 469 (332,) 15 7 4 1 1\n",
      "pow(self.in_features,2)* self.in_channel: 16268\n"
     ]
    },
    {
     "name": "stderr",
     "output_type": "stream",
     "text": [
      "\u001b[32m[I 2021-12-03 02:47:47,472]\u001b[0m Trial 71 pruned. \u001b[0m\n"
     ]
    },
    {
     "name": "stdout",
     "output_type": "stream",
     "text": [
      "conv_layer_0: 1 (424,) 28 15 3 1 2\n",
      "conv_layer_1: 424 (368,) 15 7 4 1 1\n",
      "pow(self.in_features,2)* self.in_channel: 18032\n"
     ]
    },
    {
     "name": "stderr",
     "output_type": "stream",
     "text": [
      "\u001b[32m[I 2021-12-03 02:48:09,739]\u001b[0m Trial 72 pruned. \u001b[0m\n"
     ]
    },
    {
     "name": "stdout",
     "output_type": "stream",
     "text": [
      "conv_layer_0: 1 (453,) 28 15 3 1 2\n",
      "conv_layer_1: 453 (396,) 15 7 4 1 1\n",
      "pow(self.in_features,2)* self.in_channel: 19404\n"
     ]
    },
    {
     "name": "stderr",
     "output_type": "stream",
     "text": [
      "\u001b[32m[I 2021-12-03 02:48:34,838]\u001b[0m Trial 73 pruned. \u001b[0m\n"
     ]
    },
    {
     "name": "stdout",
     "output_type": "stream",
     "text": [
      "conv_layer_0: 1 (218,) 28 15 3 1 2\n",
      "conv_layer_1: 218 (352,) 15 7 4 1 1\n",
      "pow(self.in_features,2)* self.in_channel: 17248\n"
     ]
    },
    {
     "name": "stderr",
     "output_type": "stream",
     "text": [
      "\u001b[32m[I 2021-12-03 02:49:00,846]\u001b[0m Trial 74 pruned. \u001b[0m\n"
     ]
    },
    {
     "name": "stdout",
     "output_type": "stream",
     "text": [
      "conv_layer_0: 1 (394,) 28 15 3 1 2\n",
      "conv_layer_1: 394 (305,) 15 7 4 1 1\n",
      "pow(self.in_features,2)* self.in_channel: 14945\n"
     ]
    }
   ],
   "source": [
    "if __name__ == \"__main__\":\n",
    "    study = optuna.create_study(directions=[\"maximize\"])\n",
    "    study.optimize(objective, n_trials=100)"
   ]
  }
 ],
 "metadata": {
  "interpreter": {
   "hash": "e31c68abf1d5dd3f9e2269f23eadf1b199587e56c0618a30760176a65ebfcab4"
  },
  "kernelspec": {
   "display_name": "Python 3.7.11 64-bit ('lightweight': conda)",
   "language": "python",
   "name": "python3"
  },
  "language_info": {
   "codemirror_mode": {
    "name": "ipython",
    "version": 3
   },
   "file_extension": ".py",
   "mimetype": "text/x-python",
   "name": "python",
   "nbconvert_exporter": "python",
   "pygments_lexer": "ipython3",
   "version": "3.7.11"
  },
  "orig_nbformat": 4
 },
 "nbformat": 4,
 "nbformat_minor": 2
}
