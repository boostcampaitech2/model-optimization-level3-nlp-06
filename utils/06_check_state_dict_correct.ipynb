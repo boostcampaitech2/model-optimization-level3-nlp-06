{
 "cells": [
  {
   "cell_type": "code",
   "execution_count": 6,
   "metadata": {},
   "outputs": [],
   "source": [
    "import os\n",
    "import torch\n",
    "from typing import Any, Dict, List, Tuple\n",
    "from tune import search_hyperparam\n",
    "from tune import search_model\n",
    "\n",
    "import sys\n",
    "sys.path.append(\"..\")\n",
    "from src.model import Model"
   ]
  },
  {
   "cell_type": "code",
   "execution_count": 8,
   "metadata": {},
   "outputs": [
    {
     "name": "stdout",
     "output_type": "stream",
     "text": [
      "idx |   n |     params |          module |            arguments |   in_channel |   out_channel\n",
      "----------------------------------------------------------------------------------------------\n",
      "  0 |   2 |        320 |          DWConv | [16, 3, 1, None, 'ReLU'] |            3            8\n",
      "  1 |   5 |      8,640 |          DWConv | [128, 5, 2, None, 'ReLU'] |            8           64\n",
      "  2 |   1 |     31,416 | InvertedResidualv3 | [5, 2.4, 64, 1, 0, 2] |           64           32\n",
      "  3 |   3 |     40,608 | InvertedResidualv2 |           [96, 3, 1] |           32           48\n",
      "  4 |   3 |     69,376 | InvertedResidualv2 |          [160, 2, 1] |           48           80\n",
      "  5 |   1 |     31,488 |            Conv |          [768, 1, 1] |           80          384\n",
      "  6 |   1 |          0 |   GlobalAvgPool |                   [] |          384          384\n",
      "  7 |   1 |      2,316 |       FixedConv | [6, 1, 1, None, 1, None] |          384            6\n",
      "Model Summary: 130 layers, 184,164 parameters, 184,164 gradients\n"
     ]
    }
   ],
   "source": [
    "model_dir = \"../exp/latest\"\n",
    "model_config = os.path.join(model_dir, \"model.yml\")\n",
    "model_instance = Model(model_config, verbose=True)"
   ]
  },
  {
   "cell_type": "code",
   "execution_count": 9,
   "metadata": {},
   "outputs": [
    {
     "data": {
      "text/plain": [
       "<All keys matched successfully>"
      ]
     },
     "execution_count": 9,
     "metadata": {},
     "output_type": "execute_result"
    }
   ],
   "source": [
    "weight = os.path.join(model_dir, \"best.pt\")\n",
    "model_instance.model.load_state_dict(torch.load(weight))"
   ]
  },
  {
   "cell_type": "code",
   "execution_count": 10,
   "metadata": {},
   "outputs": [
    {
     "name": "stdout",
     "output_type": "stream",
     "text": [
      "idx |   n |     params |          module |            arguments |   in_channel |   out_channel\n",
      "----------------------------------------------------------------------------------------------\n",
      "  0 |   2 |        320 |          DWConv | [16, 3, 1, None, 'ReLU'] |            3            8\n",
      "  1 |   5 |      8,640 |          DWConv | [128, 5, 2, None, 'ReLU'] |            8           64\n",
      "  2 |   1 |     31,416 | InvertedResidualv3 | [5, 2.4, 64, 1, 0, 2] |           64           32\n",
      "  3 |   3 |     40,608 | InvertedResidualv2 |           [96, 3, 1] |           32           48\n",
      "  4 |   3 |     69,376 | InvertedResidualv2 |          [160, 2, 1] |           48           80\n",
      "  5 |   1 |     31,488 |            Conv |          [768, 1, 1] |           80          384\n",
      "  6 |   1 |          0 |   GlobalAvgPool |                   [] |          384          384\n",
      "  7 |   1 |      2,316 |       FixedConv | [6, 1, 1, None, 1, None] |          384            6\n",
      "Model Summary: 130 layers, 184,164 parameters, 184,164 gradients\n"
     ]
    }
   ],
   "source": [
    "model_dir = \"../exp/latest\"\n",
    "model_config = os.path.join(model_dir, \"model.yml\")\n",
    "model_instance = Model(model_config, verbose=True)\n",
    "model_instance.model.load_state_dict(torch.load(weight))\n",
    "torch.save(model_instance.model.state_dict(), f=\"./best.pt\")"
   ]
  }
 ],
 "metadata": {
  "interpreter": {
   "hash": "e31c68abf1d5dd3f9e2269f23eadf1b199587e56c0618a30760176a65ebfcab4"
  },
  "kernelspec": {
   "display_name": "Python 3.7.11 64-bit ('lightweight': conda)",
   "language": "python",
   "name": "python3"
  },
  "language_info": {
   "codemirror_mode": {
    "name": "ipython",
    "version": 3
   },
   "file_extension": ".py",
   "mimetype": "text/x-python",
   "name": "python",
   "nbconvert_exporter": "python",
   "pygments_lexer": "ipython3",
   "version": "3.7.11"
  },
  "orig_nbformat": 4
 },
 "nbformat": 4,
 "nbformat_minor": 2
}
